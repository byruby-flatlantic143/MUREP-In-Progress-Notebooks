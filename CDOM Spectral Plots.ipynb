{
 "cells": [
  {
   "cell_type": "code",
   "execution_count": 10,
   "metadata": {},
   "outputs": [
    {
     "data": {
      "text/plain": [
       "\"x = np.linspace(10, 9)\\ny = np.linspace(0,11)\\n#fig, ax = plt.subplots()\\nfig = plt.figure(figsize=(10,10))\\nax = fig.add_subplot(212)\\nplt.show()\\nax.set_ylabel('Depth', fontsize=13)\\nax.set_xlabel('ACDOM', fontsize=13)\\nplt.plot(x,y)\""
      ]
     },
     "execution_count": 10,
     "metadata": {},
     "output_type": "execute_result"
    }
   ],
   "source": [
    "import xarray as xr\n",
    "import matplotlib.pyplot as plt\n",
    "import cmocean as cmo\n",
    "from sklearn.linear_model import LinearRegression\n",
    "import cartopy.crs as ccrs\n",
    "import pandas as pd \n",
    "import numpy as np\n",
    "import netCDF4\n",
    "\n",
    "f = netCDF4.Dataset('../Data/NASA MUREP/Spectral CDOM Repos and CSVS/gcoos_ioos-station-DISL-BSCA_2022_04.nc', 'r')\n",
    "list(f.variables)\n",
    "\n",
    "\n",
    "'''x = np.linspace(10, 9)\n",
    "y = np.linspace(0,11)\n",
    "#fig, ax = plt.subplots()\n",
    "fig = plt.figure(figsize=(10,10))\n",
    "ax = fig.add_subplot(212)\n",
    "plt.show()\n",
    "ax.set_ylabel('Depth', fontsize=13)\n",
    "ax.set_xlabel('ACDOM', fontsize=13)\n",
    "plt.plot(x,y)'''"
   ]
  },
  {
   "cell_type": "code",
   "execution_count": null,
   "metadata": {},
   "outputs": [],
   "source": []
  }
 ],
 "metadata": {
  "kernelspec": {
   "display_name": "Python 3",
   "language": "python",
   "name": "python3"
  },
  "language_info": {
   "codemirror_mode": {
    "name": "ipython",
    "version": 3
   },
   "file_extension": ".py",
   "mimetype": "text/x-python",
   "name": "python",
   "nbconvert_exporter": "python",
   "pygments_lexer": "ipython3",
   "version": "3.11.4"
  },
  "orig_nbformat": 4
 },
 "nbformat": 4,
 "nbformat_minor": 2
}
